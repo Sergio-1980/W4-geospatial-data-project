{
 "cells": [
  {
   "cell_type": "markdown",
   "id": "371acbac",
   "metadata": {},
   "source": [
    "# GeoSpatial Data Project"
   ]
  },
  {
   "cell_type": "code",
   "execution_count": 1,
   "id": "e155c975",
   "metadata": {},
   "outputs": [],
   "source": [
    "import src.funciones_llamada_api as fla\n",
    "import os\n",
    "from dotenv import load_dotenv"
   ]
  },
  {
   "cell_type": "code",
   "execution_count": 2,
   "id": "c69c6b12",
   "metadata": {},
   "outputs": [],
   "source": [
    "# Librerias\n",
    "import pandas as pd"
   ]
  },
  {
   "cell_type": "code",
   "execution_count": 3,
   "id": "30dea6f5",
   "metadata": {},
   "outputs": [],
   "source": [
    "# Librerias visualizacion json\n",
    "import pyjsonviewer"
   ]
  },
  {
   "cell_type": "markdown",
   "id": "b664d882",
   "metadata": {},
   "source": [
    "### asignamos los token de la carpeta .env a unas varibles que creamos"
   ]
  },
  {
   "cell_type": "code",
   "execution_count": 4,
   "id": "3c55de3f",
   "metadata": {},
   "outputs": [],
   "source": [
    "load_dotenv()\n",
    "\n",
    "# asignamos los token de la carpeta .env a unas varibles que creamos\n",
    "token = os.getenv(\"Client_Id\")\n",
    "token2 = os.getenv(\"Client_Secret\")"
   ]
  },
  {
   "cell_type": "markdown",
   "id": "de4404f9",
   "metadata": {},
   "source": [
    "#### con geocode buscamos la longitud y la latitud de la direccion que le demos"
   ]
  },
  {
   "cell_type": "code",
   "execution_count": 5,
   "id": "becf553a",
   "metadata": {},
   "outputs": [],
   "source": [
    "dir_madrid = \"Plaza de Colón, Madrid\"\n",
    "dir_alcobendas = \"Heron Diversia, Avenida de Bruselas, Alcobendas\"\n",
    "dir_rozas = \"Heron City Las Rozas, Calle Camilo José Cela, Las Rozas de Madrid\""
   ]
  },
  {
   "cell_type": "code",
   "execution_count": 6,
   "id": "0fd74c02",
   "metadata": {},
   "outputs": [],
   "source": [
    "# Llamamos a la funcion que nos pasa las coordenadas con geocode\n",
    "madrid = fla.geocode_coord(dir_madrid)\n",
    "alcobendas = fla.geocode_coord(dir_alcobendas)\n",
    "rozas = fla.geocode_coord(dir_rozas)"
   ]
  },
  {
   "cell_type": "markdown",
   "id": "bd0cc989",
   "metadata": {},
   "source": [
    "##### funcion generar_json y obtener_datos"
   ]
  },
  {
   "cell_type": "code",
   "execution_count": 7,
   "id": "bd7bbc04",
   "metadata": {},
   "outputs": [],
   "source": [
    "resp = fla.generar_json(madrid, \"vegan\", token, token2)"
   ]
  },
  {
   "cell_type": "code",
   "execution_count": 8,
   "id": "184d32cf",
   "metadata": {},
   "outputs": [],
   "source": [
    "datos_finales = fla.obtener_datos(resp)"
   ]
  },
  {
   "cell_type": "code",
   "execution_count": 11,
   "id": "55ffc8e7",
   "metadata": {},
   "outputs": [
    {
     "data": {
      "text/plain": [
       "dict"
      ]
     },
     "execution_count": 11,
     "metadata": {},
     "output_type": "execute_result"
    }
   ],
   "source": [
    "type(datos_finales)"
   ]
  },
  {
   "cell_type": "code",
   "execution_count": 13,
   "id": "8bcb8e34",
   "metadata": {},
   "outputs": [],
   "source": [
    "#from functools import reduce\n",
    "#import operator"
   ]
  },
  {
   "cell_type": "code",
   "execution_count": 24,
   "id": "6d3bfa0f",
   "metadata": {},
   "outputs": [],
   "source": [
    "mapa_nombre = [\"venue\", \"name\"]\n",
    "mapa_latitud = [\"venue\", \"location\", \"lat\"]\n",
    "mapa_longitud = [\"venue\", \"location\", \"lng\"]"
   ]
  },
  {
   "cell_type": "code",
   "execution_count": 12,
   "id": "ccfd5838",
   "metadata": {},
   "outputs": [],
   "source": [
    "#def getFromDict(diccionario, mapa):\n",
    "#    return reduce(operator.getitem,mapa,diccionario)"
   ]
  },
  {
   "cell_type": "code",
   "execution_count": 26,
   "id": "bab29821",
   "metadata": {},
   "outputs": [],
   "source": [
    "def type_point(lista):\n",
    "    return {\"type\": \"Point\", \n",
    "            \"coordinates\": lista }"
   ]
  },
  {
   "cell_type": "code",
   "execution_count": 27,
   "id": "9db3691a",
   "metadata": {},
   "outputs": [],
   "source": [
    "unjsonnuevo = []\n",
    "for dic in datos_finales:\n",
    "    paralista= {}\n",
    "    paralista[\"nombre\"]= getFromDict(dic,mapa_nombre)\n",
    "    paralista[\"latitud\"]= getFromDict(dic,mapa_latitud)\n",
    "    paralista[\"longitud\"]= getFromDict(dic,mapa_longitud)\n",
    "    paralista[\"location\"]=  type_point([paralista[\"longitud\"],paralista[\"latitud\"]])\n",
    "    unjsonnuevo.append(paralista)"
   ]
  },
  {
   "cell_type": "code",
   "execution_count": 31,
   "id": "34348359",
   "metadata": {},
   "outputs": [
    {
     "data": {
      "text/plain": [
       "{'nombre': 'La Terraza de Las Rozas Village',\n",
       " 'latitud': 40.518263334929124,\n",
       " 'longitud': -3.9031637657058136,\n",
       " 'location': {'type': 'Point',\n",
       "  'coordinates': [-3.9031637657058136, 40.518263334929124]}}"
      ]
     },
     "execution_count": 31,
     "metadata": {},
     "output_type": "execute_result"
    }
   ],
   "source": [
    "unjsonnuevo[0]"
   ]
  },
  {
   "cell_type": "markdown",
   "id": "a2ce0922",
   "metadata": {},
   "source": [
    "#### exportamos el diccionaro a un json"
   ]
  },
  {
   "cell_type": "code",
   "execution_count": 32,
   "id": "fbfa849c",
   "metadata": {},
   "outputs": [],
   "source": [
    "# Exportamos el json con json.dump y luego .view_data(json_file=\"ruta\")\n",
    "import json\n",
    "with open('prueba.json', 'w') as f:\n",
    "    json.dump(unjsonnuevo, f)"
   ]
  },
  {
   "cell_type": "code",
   "execution_count": null,
   "id": "919627a7",
   "metadata": {},
   "outputs": [],
   "source": []
  }
 ],
 "metadata": {
  "kernelspec": {
   "display_name": "ironhack",
   "language": "python",
   "name": "ironhack"
  },
  "language_info": {
   "codemirror_mode": {
    "name": "ipython",
    "version": 3
   },
   "file_extension": ".py",
   "mimetype": "text/x-python",
   "name": "python",
   "nbconvert_exporter": "python",
   "pygments_lexer": "ipython3",
   "version": "3.8.11"
  }
 },
 "nbformat": 4,
 "nbformat_minor": 5
}
