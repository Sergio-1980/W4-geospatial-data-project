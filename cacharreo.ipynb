{
 "cells": [
  {
   "cell_type": "markdown",
   "id": "371acbac",
   "metadata": {},
   "source": [
    "# GeoSpatial Data Project"
   ]
  },
  {
   "cell_type": "code",
   "execution_count": 1,
   "id": "e155c975",
   "metadata": {},
   "outputs": [],
   "source": [
    "import src.funciones_llamada_api as fla\n",
    "import os\n",
    "from dotenv import load_dotenv"
   ]
  },
  {
   "cell_type": "code",
   "execution_count": 2,
   "id": "c69c6b12",
   "metadata": {},
   "outputs": [],
   "source": [
    "# Librerias\n",
    "import pandas as pd"
   ]
  },
  {
   "cell_type": "code",
   "execution_count": 3,
   "id": "30dea6f5",
   "metadata": {},
   "outputs": [],
   "source": [
    "# Librerias visualizacion json\n",
    "import pyjsonviewer"
   ]
  },
  {
   "cell_type": "markdown",
   "id": "b664d882",
   "metadata": {},
   "source": [
    "### asignamos los token de la carpeta .env a unas varibles que creamos"
   ]
  },
  {
   "cell_type": "code",
   "execution_count": 4,
   "id": "3c55de3f",
   "metadata": {},
   "outputs": [],
   "source": [
    "load_dotenv()\n",
    "\n",
    "# asignamos los token de la carpeta .env a unas varibles que creamos\n",
    "token = os.getenv(\"Client_Id\")\n",
    "token2 = os.getenv(\"Client_Secret\")\n",
    "\n",
    "madrid = {'type': 'Point', 'coordinates': ['40.42562', '-3.69104']}"
   ]
  },
  {
   "cell_type": "markdown",
   "id": "de4404f9",
   "metadata": {},
   "source": [
    "#### con geocode buscamos la longitud y la latitud de la direccion que le demos"
   ]
  },
  {
   "cell_type": "code",
   "execution_count": 5,
   "id": "becf553a",
   "metadata": {},
   "outputs": [],
   "source": [
    "dir_madrid = \"Plaza de Colón, Madrid\"\n",
    "dir_alcobendas = \"Heron Diversia, Avenida de Bruselas, Alcobendas\"\n",
    "dir_rozas = \"Heron City Las Rozas, Calle Camilo José Cela, Las Rozas de Madrid\""
   ]
  },
  {
   "cell_type": "markdown",
   "id": "64bcb45e",
   "metadata": {},
   "source": [
    "# Llamamos a la funcion que nos pasa las coordenadas con geocode\n",
    "madrid = fla.geocode_coord(dir_madrid)\n",
    "alcobendas = fla.geocode_coord(dir_alcobendas)\n",
    "rozas = fla.geocode_coord(dir_rozas)"
   ]
  },
  {
   "cell_type": "markdown",
   "id": "bd0cc989",
   "metadata": {},
   "source": [
    "##### funcion generar_json, obtener_datos,  json_filtrado y crear_columnas_busqueda"
   ]
  },
  {
   "cell_type": "code",
   "execution_count": 5,
   "id": "bd7bbc04",
   "metadata": {},
   "outputs": [],
   "source": [
    "resp = fla.generar_json(madrid, \"vegan\", token, token2)"
   ]
  },
  {
   "cell_type": "code",
   "execution_count": 6,
   "id": "17d5a97b",
   "metadata": {},
   "outputs": [],
   "source": [
    "datos_finales = fla.obtener_datos(resp)"
   ]
  },
  {
   "cell_type": "code",
   "execution_count": 7,
   "id": "3e9aa816",
   "metadata": {},
   "outputs": [
    {
     "data": {
      "text/plain": [
       "list"
      ]
     },
     "execution_count": 7,
     "metadata": {},
     "output_type": "execute_result"
    }
   ],
   "source": [
    "type(datos_finales)"
   ]
  },
  {
   "cell_type": "code",
   "execution_count": 13,
   "id": "8bcb8e34",
   "metadata": {},
   "outputs": [],
   "source": [
    "#from functools import reduce\n",
    "#import operator"
   ]
  },
  {
   "cell_type": "code",
   "execution_count": 8,
   "id": "13a52b25",
   "metadata": {},
   "outputs": [
    {
     "data": {
      "text/plain": [
       "{'id': '59bd2433805e3f5982c09476',\n",
       " 'name': \"Bunny's Deli\",\n",
       " 'contact': {},\n",
       " 'location': {'address': 'Calle San Gregorio 17',\n",
       "  'lat': 40.423935,\n",
       "  'lng': -3.6971583,\n",
       "  'labeledLatLngs': [{'label': 'display',\n",
       "    'lat': 40.423935,\n",
       "    'lng': -3.6971583}],\n",
       "  'distance': 551,\n",
       "  'postalCode': '28004',\n",
       "  'cc': 'ES',\n",
       "  'neighborhood': 'Chueca',\n",
       "  'city': 'Madrid',\n",
       "  'state': 'Madrid',\n",
       "  'country': 'España',\n",
       "  'formattedAddress': ['Calle San Gregorio 17',\n",
       "   '28004 Madrid Madrid',\n",
       "   'España']},\n",
       " 'categories': [{'id': '4bf58dd8d48988d1d3941735',\n",
       "   'name': 'Vegetarian / Vegan Restaurant',\n",
       "   'pluralName': 'Vegetarian / Vegan Restaurants',\n",
       "   'shortName': 'Vegetarian / Vegan',\n",
       "   'icon': {'prefix': 'https://ss3.4sqi.net/img/categories_v2/food/vegetarian_',\n",
       "    'suffix': '.png'},\n",
       "   'primary': True}],\n",
       " 'verified': True,\n",
       " 'stats': {'tipCount': 0,\n",
       "  'usersCount': 0,\n",
       "  'checkinsCount': 0,\n",
       "  'visitsCount': 0},\n",
       " 'beenHere': {'count': 0,\n",
       "  'lastCheckinExpiredAt': 0,\n",
       "  'marked': False,\n",
       "  'unconfirmedCount': 0},\n",
       " 'photos': {'count': 0, 'groups': []},\n",
       " 'venuePage': {'id': '457440977'},\n",
       " 'hereNow': {'count': 0, 'summary': 'Nobody here', 'groups': []}}"
      ]
     },
     "execution_count": 8,
     "metadata": {},
     "output_type": "execute_result"
    }
   ],
   "source": [
    "datos_finales[0]"
   ]
  },
  {
   "cell_type": "code",
   "execution_count": 9,
   "id": "4a0dba32",
   "metadata": {},
   "outputs": [],
   "source": [
    "jsonfinal = fla.json_filtrado(datos_finales)"
   ]
  },
  {
   "cell_type": "code",
   "execution_count": 10,
   "id": "34348359",
   "metadata": {},
   "outputs": [
    {
     "data": {
      "text/plain": [
       "{'nombre': \"Bunny's Deli\",\n",
       " 'latitud': 40.423935,\n",
       " 'longitud': -3.6971583,\n",
       " 'location': {'type': 'Point', 'coordinates': [-3.6971583, 40.423935]}}"
      ]
     },
     "execution_count": 10,
     "metadata": {},
     "output_type": "execute_result"
    }
   ],
   "source": [
    "jsonfinal[0]"
   ]
  },
  {
   "cell_type": "code",
   "execution_count": 11,
   "id": "46c90fb4",
   "metadata": {},
   "outputs": [
    {
     "data": {
      "text/plain": [
       "list"
      ]
     },
     "execution_count": 11,
     "metadata": {},
     "output_type": "execute_result"
    }
   ],
   "source": [
    "type(jsonfinal)"
   ]
  },
  {
   "cell_type": "code",
   "execution_count": null,
   "id": "afeb5cbe",
   "metadata": {},
   "outputs": [],
   "source": [
    "df = fla.crear_columnas_busqueda(jsonfinal, madrid, vegan)"
   ]
  },
  {
   "cell_type": "code",
   "execution_count": null,
   "id": "bb09a55b",
   "metadata": {},
   "outputs": [],
   "source": []
  },
  {
   "cell_type": "markdown",
   "id": "a2ce0922",
   "metadata": {},
   "source": [
    "#### exportamos el diccionaro a un json"
   ]
  },
  {
   "cell_type": "code",
   "execution_count": 9,
   "id": "fbfa849c",
   "metadata": {},
   "outputs": [],
   "source": [
    "# visualizar json .view_data(json_file=\"ruta\")\n",
    "\n",
    "json_file = fla.exportar_json(\"vegan\", jsonfinal)"
   ]
  },
  {
   "cell_type": "code",
   "execution_count": null,
   "id": "7a6deaa3",
   "metadata": {},
   "outputs": [],
   "source": []
  }
 ],
 "metadata": {
  "kernelspec": {
   "display_name": "ironhack",
   "language": "python",
   "name": "ironhack"
  },
  "language_info": {
   "codemirror_mode": {
    "name": "ipython",
    "version": 3
   },
   "file_extension": ".py",
   "mimetype": "text/x-python",
   "name": "python",
   "nbconvert_exporter": "python",
   "pygments_lexer": "ipython3",
   "version": "3.8.11"
  }
 },
 "nbformat": 4,
 "nbformat_minor": 5
}
