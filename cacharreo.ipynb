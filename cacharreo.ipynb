{
 "cells": [
  {
   "cell_type": "markdown",
   "id": "371acbac",
   "metadata": {},
   "source": [
    "# GeoSpatial Data Project"
   ]
  },
  {
   "cell_type": "code",
   "execution_count": 1,
   "id": "b4799ed8",
   "metadata": {},
   "outputs": [],
   "source": [
    "# Librerias importadas token\n",
    "import os\n",
    "from dotenv import load_dotenv"
   ]
  },
  {
   "cell_type": "code",
   "execution_count": 2,
   "id": "c69c6b12",
   "metadata": {},
   "outputs": [],
   "source": [
    "# Librerias\n",
    "import requests\n",
    "import json\n",
    "import pandas as pd\n",
    "import src.funciones_llamada_api as fla"
   ]
  },
  {
   "cell_type": "code",
   "execution_count": 42,
   "id": "7054a842",
   "metadata": {},
   "outputs": [],
   "source": [
    "# Librerias visualizacion json\n",
    "import pyjsonviewer"
   ]
  },
  {
   "cell_type": "code",
   "execution_count": 43,
   "id": "d39fcec0",
   "metadata": {},
   "outputs": [
    {
     "data": {
      "text/plain": [
       "True"
      ]
     },
     "execution_count": 43,
     "metadata": {},
     "output_type": "execute_result"
    }
   ],
   "source": [
    "load_dotenv()"
   ]
  },
  {
   "cell_type": "markdown",
   "id": "ac18fc27",
   "metadata": {},
   "source": [
    "### asignamos los token de la carpeta .env a unas varibles que creamos"
   ]
  },
  {
   "cell_type": "code",
   "execution_count": 3,
   "id": "682d8ba6",
   "metadata": {},
   "outputs": [],
   "source": [
    "token = os.getenv(\"Client_Id\")\n",
    "token2 = os.getenv(\"Client_Secret\")"
   ]
  },
  {
   "cell_type": "markdown",
   "id": "99901ba0",
   "metadata": {},
   "source": [
    "#### con geocode buscamos la longitud y la latitud de la direccion que le demos"
   ]
  },
  {
   "cell_type": "code",
   "execution_count": 4,
   "id": "f6d2cb74",
   "metadata": {},
   "outputs": [],
   "source": [
    "# Llamamos a la funcion que nos pasa las coordenadas con geocode\n",
    "casa = fla.geocode.geocode_coord(\"avenida de valladolid 21, Madrid\")"
   ]
  },
  {
   "cell_type": "code",
   "execution_count": 5,
   "id": "03305c36",
   "metadata": {},
   "outputs": [
    {
     "data": {
      "text/plain": [
       "{'type': 'Point', 'coordinates': ['40.42829', '-3.72937']}"
      ]
     },
     "execution_count": 5,
     "metadata": {},
     "output_type": "execute_result"
    }
   ],
   "source": [
    "casa"
   ]
  },
  {
   "cell_type": "code",
   "execution_count": null,
   "id": "0eec55f9",
   "metadata": {},
   "outputs": [],
   "source": []
  },
  {
   "cell_type": "code",
   "execution_count": null,
   "id": "f6dd8e8f",
   "metadata": {},
   "outputs": [],
   "source": []
  },
  {
   "cell_type": "markdown",
   "id": "f9ae1c6a",
   "metadata": {},
   "source": [
    "##### funcion para obtener la dirección (latitud y longitud de una direccion que le pasemos)"
   ]
  },
  {
   "cell_type": "code",
   "execution_count": 8,
   "id": "e7686716",
   "metadata": {},
   "outputs": [],
   "source": [
    "donde = \"Plaza de Colón, Madrid\"\n",
    "donde1 = \"Heron Diversia, Avenida de Bruselas, Alcobendas\"\n",
    "donde2 = \"Heron City Las Rozas, Calle Camilo José Cela, Las Rozas de Madrid\""
   ]
  },
  {
   "cell_type": "code",
   "execution_count": 9,
   "id": "e617dc9e",
   "metadata": {},
   "outputs": [],
   "source": [
    "madrid = geocode(donde)"
   ]
  },
  {
   "cell_type": "code",
   "execution_count": 10,
   "id": "e6173e2d",
   "metadata": {},
   "outputs": [],
   "source": [
    "url_query = 'https://api.foursquare.com/v2/venues/explore'"
   ]
  },
  {
   "cell_type": "code",
   "execution_count": 11,
   "id": "e5fa8591",
   "metadata": {},
   "outputs": [],
   "source": [
    "parametros = {\n",
    "    \"client_id\": token,\n",
    "    \"client_secret\": token2,\n",
    "    \"v\": \"20180323\",\n",
    "    \"ll\": f\"{madrid['coordinates'][0]}, {madrid['coordinates'][1]}\",\n",
    "    \"query\": \"Ciudad_Madrid\",\n",
    "    \"limit\": 200   \n",
    "}"
   ]
  },
  {
   "cell_type": "code",
   "execution_count": 12,
   "id": "b65faf39",
   "metadata": {},
   "outputs": [],
   "source": [
    "resp_madrid = requests.get(url_query, params=parametros).json()"
   ]
  },
  {
   "cell_type": "code",
   "execution_count": 13,
   "id": "1fbfad1f",
   "metadata": {},
   "outputs": [],
   "source": [
    "# resp_madrid"
   ]
  },
  {
   "cell_type": "code",
   "execution_count": 14,
   "id": "b680a6d4",
   "metadata": {},
   "outputs": [],
   "source": [
    "alcobendas = geocode(donde1)"
   ]
  },
  {
   "cell_type": "code",
   "execution_count": 15,
   "id": "1154c9c4",
   "metadata": {},
   "outputs": [],
   "source": [
    "parametros = {\n",
    "    \"client_id\": token,\n",
    "    \"client_secret\": token2,\n",
    "    \"v\": \"20180323\",\n",
    "    \"ll\": f\"{alcobendas['coordinates'][0]}, {alcobendas['coordinates'][1]}\",\n",
    "    \"query\": \"Ciudad_Alcobendas\",\n",
    "    \"limit\": 200   \n",
    "}"
   ]
  },
  {
   "cell_type": "code",
   "execution_count": 16,
   "id": "eb22ce39",
   "metadata": {},
   "outputs": [],
   "source": [
    "resp_alcobendas = requests.get(url_query, params=parametros).json()"
   ]
  },
  {
   "cell_type": "code",
   "execution_count": 17,
   "id": "5b2e268e",
   "metadata": {},
   "outputs": [],
   "source": [
    "# resp_alcobendas"
   ]
  },
  {
   "cell_type": "code",
   "execution_count": 18,
   "id": "d8050852",
   "metadata": {},
   "outputs": [],
   "source": [
    "rozas = geocode(donde2)"
   ]
  },
  {
   "cell_type": "code",
   "execution_count": 19,
   "id": "13dbeea6",
   "metadata": {},
   "outputs": [],
   "source": [
    "parametros = {\n",
    "    \"client_id\": token,\n",
    "    \"client_secret\": token2,\n",
    "    \"v\": \"20180323\",\n",
    "    \"ll\": f\"{rozas['coordinates'][0]}, {rozas['coordinates'][1]}\",\n",
    "    \"query\": \"Ciudad_Rozas\",\n",
    "    \"limit\": 200   \n",
    "}"
   ]
  },
  {
   "cell_type": "code",
   "execution_count": 20,
   "id": "4ebace38",
   "metadata": {},
   "outputs": [],
   "source": [
    "resp_rozas = requests.get(url_query, params=parametros).json()"
   ]
  },
  {
   "cell_type": "code",
   "execution_count": 21,
   "id": "03e61b26",
   "metadata": {},
   "outputs": [],
   "source": [
    "datos_finales = resp_rozas[\"response\"][\"groups\"][0][\"items\"]"
   ]
  },
  {
   "cell_type": "code",
   "execution_count": 22,
   "id": "f901bc4d",
   "metadata": {},
   "outputs": [
    {
     "data": {
      "text/plain": [
       "{'id': '4b02fe9df964a520b94b22e3',\n",
       " 'name': 'Las Rozas Village',\n",
       " 'contact': {},\n",
       " 'location': {'address': 'C/ Juan Ramon Jimenez 3',\n",
       "  'lat': 40.5184364135419,\n",
       "  'lng': -3.900519847869873,\n",
       "  'labeledLatLngs': [{'label': 'display',\n",
       "    'lat': 40.5184364135419,\n",
       "    'lng': -3.900519847869873}],\n",
       "  'distance': 201,\n",
       "  'postalCode': '28232',\n",
       "  'cc': 'ES',\n",
       "  'city': 'Las Rozas',\n",
       "  'state': 'Madrid',\n",
       "  'country': 'España',\n",
       "  'formattedAddress': ['C/ Juan Ramon Jimenez 3',\n",
       "   '28232 Las Rozas Madrid',\n",
       "   'España']},\n",
       " 'categories': [{'id': '5744ccdfe4b0c0459246b4df',\n",
       "   'name': 'Outlet Mall',\n",
       "   'pluralName': 'Outlet Malls',\n",
       "   'shortName': 'Outlet Mall',\n",
       "   'icon': {'prefix': 'https://ss3.4sqi.net/img/categories_v2/shops/mall_',\n",
       "    'suffix': '.png'},\n",
       "   'primary': True}],\n",
       " 'verified': True,\n",
       " 'stats': {'tipCount': 0,\n",
       "  'usersCount': 0,\n",
       "  'checkinsCount': 0,\n",
       "  'visitsCount': 0},\n",
       " 'beenHere': {'count': 0,\n",
       "  'lastCheckinExpiredAt': 0,\n",
       "  'marked': False,\n",
       "  'unconfirmedCount': 0},\n",
       " 'photos': {'count': 0, 'groups': []},\n",
       " 'venuePage': {'id': '97781020'},\n",
       " 'hereNow': {'count': 0, 'summary': 'Nobody here', 'groups': []}}"
      ]
     },
     "execution_count": 22,
     "metadata": {},
     "output_type": "execute_result"
    }
   ],
   "source": [
    "datos_finales[1][\"venue\"]"
   ]
  },
  {
   "cell_type": "code",
   "execution_count": 23,
   "id": "922735dd",
   "metadata": {},
   "outputs": [],
   "source": [
    "from functools import reduce\n",
    "import operator"
   ]
  },
  {
   "cell_type": "code",
   "execution_count": 24,
   "id": "95b333bc",
   "metadata": {},
   "outputs": [],
   "source": [
    "mapa_nombre = [\"venue\", \"name\"]\n",
    "mapa_latitud = [\"venue\", \"location\", \"lat\"]\n",
    "mapa_longitud = [\"venue\", \"location\", \"lng\"]"
   ]
  },
  {
   "cell_type": "code",
   "execution_count": 25,
   "id": "b5c0ec34",
   "metadata": {},
   "outputs": [],
   "source": [
    "def getFromDict(diccionario, mapa):\n",
    "    return reduce(operator.getitem,mapa,diccionario)"
   ]
  },
  {
   "cell_type": "code",
   "execution_count": 26,
   "id": "b99fb143",
   "metadata": {},
   "outputs": [],
   "source": [
    "def type_point(lista):\n",
    "    return {\"type\": \"Point\", \n",
    "            \"coordinates\": lista }"
   ]
  },
  {
   "cell_type": "code",
   "execution_count": 27,
   "id": "a92df386",
   "metadata": {},
   "outputs": [],
   "source": [
    "unjsonnuevo = []\n",
    "for dic in datos_finales:\n",
    "    paralista= {}\n",
    "    paralista[\"nombre\"]= getFromDict(dic,mapa_nombre)\n",
    "    paralista[\"latitud\"]= getFromDict(dic,mapa_latitud)\n",
    "    paralista[\"longitud\"]= getFromDict(dic,mapa_longitud)\n",
    "    paralista[\"location\"]=  type_point([paralista[\"longitud\"],paralista[\"latitud\"]])\n",
    "    unjsonnuevo.append(paralista)"
   ]
  },
  {
   "cell_type": "code",
   "execution_count": 31,
   "id": "03081477",
   "metadata": {},
   "outputs": [
    {
     "data": {
      "text/plain": [
       "{'nombre': 'La Terraza de Las Rozas Village',\n",
       " 'latitud': 40.518263334929124,\n",
       " 'longitud': -3.9031637657058136,\n",
       " 'location': {'type': 'Point',\n",
       "  'coordinates': [-3.9031637657058136, 40.518263334929124]}}"
      ]
     },
     "execution_count": 31,
     "metadata": {},
     "output_type": "execute_result"
    }
   ],
   "source": [
    "unjsonnuevo[0]"
   ]
  },
  {
   "cell_type": "markdown",
   "id": "4ca94fba",
   "metadata": {},
   "source": [
    "#### exportamos el diccionaro a un json"
   ]
  },
  {
   "cell_type": "code",
   "execution_count": 32,
   "id": "519f337b",
   "metadata": {},
   "outputs": [],
   "source": [
    "# Exportamos el json con json.dump y luego .view_data(json_file=\"ruta\")\n",
    "import json\n",
    "with open('prueba.json', 'w') as f:\n",
    "    json.dump(unjsonnuevo, f)"
   ]
  },
  {
   "cell_type": "code",
   "execution_count": null,
   "id": "54664fab",
   "metadata": {},
   "outputs": [],
   "source": []
  }
 ],
 "metadata": {
  "kernelspec": {
   "display_name": "ironhack",
   "language": "python",
   "name": "ironhack"
  },
  "language_info": {
   "codemirror_mode": {
    "name": "ipython",
    "version": 3
   },
   "file_extension": ".py",
   "mimetype": "text/x-python",
   "name": "python",
   "nbconvert_exporter": "python",
   "pygments_lexer": "ipython3",
   "version": "3.8.11"
  }
 },
 "nbformat": 4,
 "nbformat_minor": 5
}
